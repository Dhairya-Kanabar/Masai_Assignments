import math

# 1. Library Access System
class Member:
    def __init__(self, name, member_id):
        self.name = name
        self.member_id = member_id

class StudentMember(Member):
    def __init__(self, name, member_id):
        super().__init__(name, member_id)
        self.books_borrowed = 0

    def add_book(self):
        self.books_borrowed += 1

    def return_book(self):
        if self.books_borrowed > 0:
            self.books_borrowed -= 1

    def display_status(self):
        return f"{self.name} has borrowed {self.books_borrowed} books."


# 2. Drone Fleet Management
class Device:
    def __init__(self, device_id):
        self.device_id = device_id

    def info(self):
        return f"Device ID: {self.device_id}"

class Flyer:
    def fly(self):
        return "Drone is flying."

class Drone(Device, Flyer):
    def __init__(self, device_id):
        Device.__init__(self, device_id)

    def capture_image(self):
        return "Image captured by drone."


# 3. Online Learning Platform
class User:
    def __init__(self, name, email):
        self.name = name
        self.email = email

    def display_info(self):
        return f"User: {self.name}, Email: {self.email}"

class Instructor(User):
    def __init__(self, name, email, subject):
        super().__init__(name, email)
        self.subject = subject

    def upload_content(self):
        return f"Content uploaded for {self.subject}"

    def display_info(self):
        return f"Instructor: {self.name}, Subject: {self.subject}"

class CourseCreator(Instructor):
    def __init__(self, name, email, subject, course_name):
        super().__init__(name, email, subject)
        self.course_name = course_name
        self.modules = []

    def create_course(self, *modules):
        self.modules.extend(modules)

    def display_info(self):
        return f"Course Creator: {self.name}, Course: {self.course_name}, Modules: {len(self.modules)}"


# 4. Smart Home Appliance
class Appliance:
    def status(self):
        return "Generic appliance status."

class Fan(Appliance):
    def status(self):
        return "Fan is spinning."

class Light(Appliance):
    def status(self):
        return "Light is on."

class AC(Appliance):
    def status(self):
        return "AC is cooling."

devices = [Fan(), Light(), AC()]
statuses = [device.status() for device in devices]


# 5. Geometry Toolkit
class ShapeCalculator:
    def area(self, a=0, b=None):
        if b is None:
            return math.pi * a * a
        return a * b
